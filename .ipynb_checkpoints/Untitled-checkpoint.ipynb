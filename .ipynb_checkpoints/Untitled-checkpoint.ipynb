{
 "cells": [
  {
   "cell_type": "code",
   "execution_count": 8,
   "metadata": {},
   "outputs": [],
   "source": [
    "# run Quant_Trading_BackTest_Execute.py\n",
    "from pandas_datareader import data as pdr\n",
    "from datetime import date\n",
    "import yfinance as yf\n",
    "yf.pdr_override()\n",
    "import pandas as pd"
   ]
  },
  {
   "cell_type": "code",
   "execution_count": 9,
   "metadata": {},
   "outputs": [
    {
     "name": "stdout",
     "output_type": "stream",
     "text": [
      "Getting Data from yfinance from 2020-10-18 to 2010-01-01\n",
      "[*********************100%***********************]  1 of 1 completed\n"
     ]
    }
   ],
   "source": [
    "ticker_list=[\"^GSPC\"]\n",
    "# #self.ticker_list=[‘DJIA’, ‘DOW’, ‘LB’, ‘EXPE’, ‘PXD’, ‘MCHP’, ‘CRM’, ‘JEC’ , ‘NRG’, ‘HFC’, ‘NOW’]\n",
    "today = date.today()\n",
    "start_date = \"2010-01-01\"\n",
    "print(\"Getting Data from yfinance from \" + (str) (today) + \" to \" + (str)(start_date))\n",
    "historicalData = yf.download(ticker_list, start=start_date, end=today)"
   ]
  },
  {
   "cell_type": "code",
   "execution_count": null,
   "metadata": {},
   "outputs": [],
   "source": []
  }
 ],
 "metadata": {
  "kernelspec": {
   "display_name": "Python 3",
   "language": "python",
   "name": "python3"
  },
  "language_info": {
   "codemirror_mode": {
    "name": "ipython",
    "version": 3
   },
   "file_extension": ".py",
   "mimetype": "text/x-python",
   "name": "python",
   "nbconvert_exporter": "python",
   "pygments_lexer": "ipython3",
   "version": "3.8.5"
  }
 },
 "nbformat": 4,
 "nbformat_minor": 4
}
